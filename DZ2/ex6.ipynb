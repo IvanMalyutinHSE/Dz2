{
 "cells": [
  {
   "cell_type": "code",
   "execution_count": 76,
   "metadata": {},
   "outputs": [],
   "source": [
    "import numpy as np"
   ]
  },
  {
   "cell_type": "code",
   "execution_count": 77,
   "metadata": {},
   "outputs": [
    {
     "name": "stdout",
     "output_type": "stream",
     "text": [
      "50\n",
      "10\n"
     ]
    }
   ],
   "source": [
    "p = int(input())\n",
    "k = int(input())"
   ]
  },
  {
   "cell_type": "code",
   "execution_count": 78,
   "metadata": {},
   "outputs": [],
   "source": [
    "x = np.random.random(p).reshape(p,1)"
   ]
  },
  {
   "cell_type": "code",
   "execution_count": 79,
   "metadata": {},
   "outputs": [],
   "source": [
    "y = np.eye(p)"
   ]
  },
  {
   "cell_type": "code",
   "execution_count": 80,
   "metadata": {},
   "outputs": [],
   "source": [
    "a = y * x"
   ]
  },
  {
   "cell_type": "code",
   "execution_count": 81,
   "metadata": {},
   "outputs": [],
   "source": [
    "u = np.random.random((p,k))"
   ]
  },
  {
   "cell_type": "code",
   "execution_count": 82,
   "metadata": {},
   "outputs": [],
   "source": [
    "v = np.random.random((k,p))"
   ]
  },
  {
   "cell_type": "code",
   "execution_count": 83,
   "metadata": {},
   "outputs": [],
   "source": [
    "c = np.eye(k)"
   ]
  },
  {
   "cell_type": "code",
   "execution_count": 84,
   "metadata": {},
   "outputs": [
    {
     "name": "stdout",
     "output_type": "stream",
     "text": [
      "9.92710000673469e-05\n"
     ]
    }
   ],
   "source": [
    "def woodbury(a, u, v):\n",
    "    a1 = np.linalg.inv(a)\n",
    "    f = np.linalg.inv(c + v @ a1 @ u)\n",
    "    return a1 - a1 @ u @ f @ v @ a1\n",
    "\n",
    "import timeit\n",
    "start = timeit.default_timer()\n",
    "stop = timeit.default_timer()\n",
    "execution_time = stop - start\n",
    "\n",
    "print(execution_time)"
   ]
  },
  {
   "cell_type": "code",
   "execution_count": 85,
   "metadata": {},
   "outputs": [
    {
     "data": {
      "text/plain": [
       "array([[  1.59960375,  -9.65482969,   4.30810603, ...,  -9.99912463,\n",
       "         -1.33501614,   0.40654361],\n",
       "       [  0.30162082,   1.53369801,   2.08465214, ...,   2.17606661,\n",
       "          0.10367144,   0.23337736],\n",
       "       [  1.56339304,   5.70896633,  -1.07282334, ...,   4.6367118 ,\n",
       "          0.90653546,  -0.16672742],\n",
       "       ...,\n",
       "       [ -1.46872224, -14.15293299,   0.76574719, ...,  -3.85531219,\n",
       "         -0.02285777,   1.2689406 ],\n",
       "       [  0.44975912,  -0.12634156,  -0.7937142 , ...,   0.8102839 ,\n",
       "          1.38649306,   0.05184001],\n",
       "       [ -0.29485756,  -0.29489264,   0.21101719, ...,  -1.64742137,\n",
       "         -0.11591613,   0.97690665]])"
      ]
     },
     "execution_count": 85,
     "metadata": {},
     "output_type": "execute_result"
    }
   ],
   "source": [
    "woodbury(a, u, v)"
   ]
  },
  {
   "cell_type": "code",
   "execution_count": 86,
   "metadata": {},
   "outputs": [
    {
     "name": "stdout",
     "output_type": "stream",
     "text": [
      "8.846299999731855e-05\n"
     ]
    }
   ],
   "source": [
    "def realwoodbury(a, u, v):\n",
    "    return np.linalg.inv(a + u @ v)\n",
    "\n",
    "import timeit\n",
    "start = timeit.default_timer()\n",
    "stop = timeit.default_timer()\n",
    "execution_time = stop - start\n",
    "\n",
    "print(execution_time)"
   ]
  },
  {
   "cell_type": "code",
   "execution_count": 87,
   "metadata": {},
   "outputs": [
    {
     "data": {
      "text/plain": [
       "array([[  1.59960375,  -9.65482969,   4.30810603, ...,  -9.99912463,\n",
       "         -1.33501614,   0.40654361],\n",
       "       [  0.30162082,   1.53369801,   2.08465214, ...,   2.17606661,\n",
       "          0.10367144,   0.23337736],\n",
       "       [  1.56339304,   5.70896633,  -1.07282334, ...,   4.6367118 ,\n",
       "          0.90653546,  -0.16672742],\n",
       "       ...,\n",
       "       [ -1.46872224, -14.15293299,   0.76574719, ...,  -3.85531219,\n",
       "         -0.02285777,   1.2689406 ],\n",
       "       [  0.44975912,  -0.12634156,  -0.7937142 , ...,   0.8102839 ,\n",
       "          1.38649306,   0.05184001],\n",
       "       [ -0.29485756,  -0.29489264,   0.21101719, ...,  -1.64742137,\n",
       "         -0.11591613,   0.97690665]])"
      ]
     },
     "execution_count": 87,
     "metadata": {},
     "output_type": "execute_result"
    }
   ],
   "source": [
    "realwoodbury(a, u, v)"
   ]
  },
  {
   "cell_type": "code",
   "execution_count": null,
   "metadata": {},
   "outputs": [],
   "source": []
  }
 ],
 "metadata": {
  "kernelspec": {
   "display_name": "Python 3",
   "language": "python",
   "name": "python3"
  }
 },
 "nbformat": 4,
 "nbformat_minor": 4
}
